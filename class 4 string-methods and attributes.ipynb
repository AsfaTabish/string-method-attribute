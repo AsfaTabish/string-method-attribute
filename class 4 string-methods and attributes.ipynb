{
 "cells": [
  {
   "cell_type": "code",
   "execution_count": 2,
   "id": "579fd83c",
   "metadata": {},
   "outputs": [
    {
     "name": "stdout",
     "output_type": "stream",
     "text": [
      "<class 'str'>\n",
      "['__add__', '__class__', '__contains__', '__delattr__', '__dir__', '__doc__', '__eq__', '__format__', '__ge__', '__getattribute__', '__getitem__', '__getnewargs__', '__getstate__', '__gt__', '__hash__', '__init__', '__init_subclass__', '__iter__', '__le__', '__len__', '__lt__', '__mod__', '__mul__', '__ne__', '__new__', '__reduce__', '__reduce_ex__', '__repr__', '__rmod__', '__rmul__', '__setattr__', '__sizeof__', '__str__', '__subclasshook__', 'capitalize', 'casefold', 'center', 'count', 'encode', 'endswith', 'expandtabs', 'find', 'format', 'format_map', 'index', 'isalnum', 'isalpha', 'isascii', 'isdecimal', 'isdigit', 'isidentifier', 'islower', 'isnumeric', 'isprintable', 'isspace', 'istitle', 'isupper', 'join', 'ljust', 'lower', 'lstrip', 'maketrans', 'partition', 'removeprefix', 'removesuffix', 'replace', 'rfind', 'rindex', 'rjust', 'rpartition', 'rsplit', 'rstrip', 'split', 'splitlines', 'startswith', 'strip', 'swapcase', 'title', 'translate', 'upper', 'zfill']\n"
     ]
    }
   ],
   "source": [
    "a = \"Pakistan!\"\n",
    "print(type(a))\n",
    "print(dir(a))"
   ]
  },
  {
   "cell_type": "markdown",
   "id": "36607fdd",
   "metadata": {},
   "source": [
    "All **Methods**/functions, **attributes**/properties/fields of string\n",
    "\n",
    "* method_name()\n",
    "* attribute_name\n",
    "\n",
    "* How we can call methods and attribute\n",
    "     * object_name.method_name()\n",
    "     * object_name.attribute_name"
   ]
  },
  {
   "cell_type": "markdown",
   "id": "62c80c61",
   "metadata": {},
   "source": [
    "'capitalize', 'casefold', 'center', 'count', 'encode', 'endswith', 'expandtabs', 'find', 'format', 'format_map', 'index', 'isalnum', 'isalpha', 'isascii', 'isdecimal', 'isdigit', 'isidentifier', 'islower', 'isnumeric', 'isprintable', 'isspace', 'istitle', 'isupper', 'join', 'ljust', 'lower', 'lstrip', 'maketrans', 'partition', 'removeprefix', 'removesuffix', 'replace', 'rfind', 'rindex', 'rjust', 'rpartition', 'rsplit', 'rstrip', 'split', 'splitlines', 'startswith', 'strip', 'swapcase', 'title', 'translate', 'upper', 'zfill']"
   ]
  },
  {
   "cell_type": "code",
   "execution_count": 2,
   "id": "478f1d7c",
   "metadata": {},
   "outputs": [
    {
     "name": "stdout",
     "output_type": "stream",
     "text": [
      "Pakistan zinda bad!\n",
      "we love our country\n"
     ]
    }
   ],
   "source": [
    "text = \"\"\"Pakistan zinDa bAd!\n",
    "wE loVe oUr cOuNtRy\"\"\"\n",
    "print(text.capitalize())"
   ]
  },
  {
   "cell_type": "code",
   "execution_count": 4,
   "id": "1c131a96",
   "metadata": {},
   "outputs": [
    {
     "name": "stdout",
     "output_type": "stream",
     "text": [
      "pakistan zinda bad!\n",
      "we love our country\n"
     ]
    }
   ],
   "source": [
    "text = \"\"\"Pakistan zinDa bAd!\n",
    "wE loVe oUr cOuNtRy\"\"\"\n",
    "print(text.casefold())"
   ]
  },
  {
   "cell_type": "code",
   "execution_count": 12,
   "id": "9cea6f2c",
   "metadata": {},
   "outputs": [
    {
     "name": "stdout",
     "output_type": "stream",
     "text": [
      "11\n"
     ]
    }
   ],
   "source": [
    "name = \"Asfa Tabish\"\n",
    "print(len(name))"
   ]
  },
  {
   "cell_type": "code",
   "execution_count": 8,
   "id": "ef2e09e3",
   "metadata": {},
   "outputs": [
    {
     "name": "stdout",
     "output_type": "stream",
     "text": [
      "11\n"
     ]
    }
   ],
   "source": [
    "name = \"Asfa Tabish\"\n",
    "print(name.__len__())\n"
   ]
  },
  {
   "cell_type": "code",
   "execution_count": 5,
   "id": "fe0c7d8d",
   "metadata": {},
   "outputs": [
    {
     "data": {
      "text/plain": [
       "'    Asfa Tabish     '"
      ]
     },
     "execution_count": 5,
     "metadata": {},
     "output_type": "execute_result"
    }
   ],
   "source": [
    "name = \"Asfa Tabish\"\n",
    "\n",
    "name.center(20)"
   ]
  },
  {
   "cell_type": "code",
   "execution_count": 18,
   "id": "fecc30db",
   "metadata": {},
   "outputs": [
    {
     "data": {
      "text/plain": [
       "' Pakistan zinda bad '"
      ]
     },
     "execution_count": 18,
     "metadata": {},
     "output_type": "execute_result"
    }
   ],
   "source": [
    "text = \"Pakistan zinda bad\"\n",
    "\n",
    "text.center(20)"
   ]
  },
  {
   "cell_type": "code",
   "execution_count": 10,
   "id": "df7ca9e9",
   "metadata": {},
   "outputs": [
    {
     "name": "stdout",
     "output_type": "stream",
     "text": [
      "2\n"
     ]
    }
   ],
   "source": [
    "name = \"Asfa Tabish\"\n",
    "print(name.count(\"a\")) "
   ]
  },
  {
   "cell_type": "code",
   "execution_count": 14,
   "id": "a27c904c",
   "metadata": {},
   "outputs": [
    {
     "data": {
      "text/plain": [
       "3"
      ]
     },
     "execution_count": 14,
     "metadata": {},
     "output_type": "execute_result"
    }
   ],
   "source": [
    "name =\"Asfa Tabish\"\n",
    "name.count(\"A\") + name.count(\"a\")"
   ]
  },
  {
   "cell_type": "code",
   "execution_count": 19,
   "id": "f5018b79",
   "metadata": {},
   "outputs": [
    {
     "name": "stdout",
     "output_type": "stream",
     "text": [
      "asfa tabish\n",
      "3 2\n"
     ]
    }
   ],
   "source": [
    "name = \"Asfa Tabish\"\n",
    "\n",
    "name = name.casefold()\n",
    "\n",
    "print(name)\n",
    "\n",
    "print(name.count(\"a\") , name.count(\"s\"))"
   ]
  },
  {
   "cell_type": "code",
   "execution_count": 21,
   "id": "68c85513",
   "metadata": {},
   "outputs": [
    {
     "name": "stdout",
     "output_type": "stream",
     "text": [
      "asfa tabish\n",
      "<class 'int'>\n"
     ]
    }
   ],
   "source": [
    "name = \"Asfa Tabish\"\n",
    "\n",
    "name = name.casefold()\n",
    "\n",
    "print(name)\n",
    "\n",
    "a1 = name.count(\"a\")\n",
    "f1 = name.count(\"f\")\n",
    "\n",
    "print(type(a1))\n",
    "\n"
   ]
  },
  {
   "cell_type": "code",
   "execution_count": 3,
   "id": "a6bb6e46",
   "metadata": {},
   "outputs": [
    {
     "name": "stdout",
     "output_type": "stream",
     "text": [
      "b'My name is St\\xc3\\xa5le'\n"
     ]
    }
   ],
   "source": [
    "txt = \"My name is Ståle\"\n",
    "\n",
    "x = txt.encode()\n",
    "\n",
    "print(x)"
   ]
  },
  {
   "cell_type": "code",
   "execution_count": null,
   "id": "aab57265",
   "metadata": {},
   "outputs": [],
   "source": [
    "txt = \"My name is Ståle\"\n",
    "\n",
    "print(txt.encode(encoding=\"ascii\",errors=\"backslashreplace\"))\n",
    "print(txt.encode(encoding=\"ascii\",errors=\"ignore\"))\n",
    "print(txt.encode(encoding=\"ascii\",errors=\"namereplace\"))\n",
    "print(txt.encode(encoding=\"ascii\",errors=\"replace\"))\n",
    "print(txt.encode(encoding=\"ascii\",errors=\"xmlcharrefreplace\"))"
   ]
  },
  {
   "cell_type": "code",
   "execution_count": 4,
   "id": "9651f998",
   "metadata": {},
   "outputs": [
    {
     "name": "stdout",
     "output_type": "stream",
     "text": [
      "True\n",
      "True\n"
     ]
    }
   ],
   "source": [
    "name = \"Asfa Tabish\"\n",
    "print(name.endswith(\"h\"))\n",
    "print(name.endswith(\"sh\"))"
   ]
  },
  {
   "cell_type": "code",
   "execution_count": 1,
   "id": "133c206e",
   "metadata": {},
   "outputs": [
    {
     "name": "stdout",
     "output_type": "stream",
     "text": [
      "True\n",
      "False\n"
     ]
    }
   ],
   "source": [
    "name = \"Asfa Tabish\"\n",
    "print(name.startswith(\"A\"))\n",
    "print(name.startswith(\"ish\"))"
   ]
  },
  {
   "cell_type": "code",
   "execution_count": 2,
   "id": "384fa10f",
   "metadata": {},
   "outputs": [
    {
     "name": "stdout",
     "output_type": "stream",
     "text": [
      "start with ish\n",
      "False\n",
      "True\n"
     ]
    }
   ],
   "source": [
    "name = \"Asfa Tabish\"\n",
    "\n",
    "search = input(\"start with \")\n",
    "\n",
    "print(name.startswith(search))\n",
    "print(name.startswith(\"A\"))"
   ]
  },
  {
   "cell_type": "code",
   "execution_count": 3,
   "id": "fefbf28f",
   "metadata": {},
   "outputs": [
    {
     "name": "stdout",
     "output_type": "stream",
     "text": [
      "\n",
      "NED University\n",
      "Batch 5\n",
      "Class:\t Python\n",
      "Name:\tAsfa Tabish\n",
      "Father's Name:\tTabish bin hamid\n",
      "\n"
     ]
    }
   ],
   "source": [
    "card = \"\"\"\n",
    "NED University\n",
    "Batch 5\n",
    "Class:\\t Python\n",
    "Name:\\tAsfa Tabish\n",
    "Father's Name:\\tTabish bin hamid\n",
    "\"\"\"\n",
    "\n",
    "print(card)"
   ]
  },
  {
   "cell_type": "code",
   "execution_count": 5,
   "id": "12edfdc7",
   "metadata": {},
   "outputs": [
    {
     "name": "stdout",
     "output_type": "stream",
     "text": [
      "\n",
      "NED University\n",
      "Batch 5\n",
      "Class:                        Python\n",
      "Name:                         Asfa Tabish\n",
      "Father's Name:                Tabish bin hamid\n",
      "\n"
     ]
    }
   ],
   "source": [
    "card = \"\"\"\n",
    "NED University\n",
    "Batch 5\n",
    "Class:\\tPython\n",
    "Name:\\tAsfa Tabish\n",
    "Father's Name:\\tTabish bin hamid\n",
    "\"\"\"\n",
    "print(card.expandtabs(30))"
   ]
  },
  {
   "cell_type": "code",
   "execution_count": 6,
   "id": "97f3ce8d",
   "metadata": {},
   "outputs": [
    {
     "data": {
      "text/plain": [
       "'asfa tabish'"
      ]
     },
     "execution_count": 6,
     "metadata": {},
     "output_type": "execute_result"
    }
   ],
   "source": [
    "name = \"AsFa TaBiSh\"\n",
    "name.lower()"
   ]
  },
  {
   "cell_type": "code",
   "execution_count": 7,
   "id": "8299e4b5",
   "metadata": {},
   "outputs": [
    {
     "name": "stdout",
     "output_type": "stream",
     "text": [
      "2\n"
     ]
    }
   ],
   "source": [
    "a = 3 and 2\n",
    "print(a)"
   ]
  },
  {
   "cell_type": "code",
   "execution_count": 8,
   "id": "62db025a",
   "metadata": {},
   "outputs": [
    {
     "data": {
      "text/plain": [
       "'Asfa Tabish     '"
      ]
     },
     "execution_count": 8,
     "metadata": {},
     "output_type": "execute_result"
    }
   ],
   "source": [
    "name = \"     Asfa Tabish     \"\n",
    "name.lstrip()"
   ]
  },
  {
   "cell_type": "code",
   "execution_count": 9,
   "id": "20aed850",
   "metadata": {},
   "outputs": [
    {
     "data": {
      "text/plain": [
       "'      Asfa Tabish'"
      ]
     },
     "execution_count": 9,
     "metadata": {},
     "output_type": "execute_result"
    }
   ],
   "source": [
    "name = \"      Asfa Tabish     \"\n",
    "name.rstrip()"
   ]
  },
  {
   "cell_type": "code",
   "execution_count": 10,
   "id": "d30a2892",
   "metadata": {},
   "outputs": [
    {
     "data": {
      "text/plain": [
       "'Asfa Tabish'"
      ]
     },
     "execution_count": 10,
     "metadata": {},
     "output_type": "execute_result"
    }
   ],
   "source": [
    "name = \"     Asfa Tabish     \"\n",
    "name.strip()"
   ]
  },
  {
   "cell_type": "code",
   "execution_count": 11,
   "id": "b4a6cfda",
   "metadata": {},
   "outputs": [
    {
     "data": {
      "text/plain": [
       "'Azka Tabish'"
      ]
     },
     "execution_count": 11,
     "metadata": {},
     "output_type": "execute_result"
    }
   ],
   "source": [
    "name = \"Asfa Tabish\"\n",
    "name.replace(\"Asfa\",\"Azka\")"
   ]
  },
  {
   "cell_type": "code",
   "execution_count": 12,
   "id": "f36b7bb2",
   "metadata": {},
   "outputs": [
    {
     "data": {
      "text/plain": [
       "'Azka Tabish'"
      ]
     },
     "execution_count": 12,
     "metadata": {},
     "output_type": "execute_result"
    }
   ],
   "source": [
    "name = \"Asfa Tabish\"\n",
    "name.replace(\"Asfa\",\"Azka\", -1)"
   ]
  },
  {
   "cell_type": "code",
   "execution_count": 13,
   "id": "ed576e3a",
   "metadata": {},
   "outputs": [
    {
     "data": {
      "text/plain": [
       "0"
      ]
     },
     "execution_count": 13,
     "metadata": {},
     "output_type": "execute_result"
    }
   ],
   "source": [
    "name.index(\"Asfa\")"
   ]
  },
  {
   "cell_type": "code",
   "execution_count": 14,
   "id": "7225f2a1",
   "metadata": {},
   "outputs": [
    {
     "data": {
      "text/plain": [
       "18"
      ]
     },
     "execution_count": 14,
     "metadata": {},
     "output_type": "execute_result"
    }
   ],
   "source": [
    "name = \"Asfa  Asfa  Asfa  Asfa\"\n",
    "\n",
    "name.find(\"Asfa\",16)"
   ]
  },
  {
   "cell_type": "code",
   "execution_count": 15,
   "id": "cee99a4b",
   "metadata": {},
   "outputs": [
    {
     "data": {
      "text/plain": [
       "4"
      ]
     },
     "execution_count": 15,
     "metadata": {},
     "output_type": "execute_result"
    }
   ],
   "source": [
    "name.count(\"Asfa\")"
   ]
  }
 ],
 "metadata": {
  "kernelspec": {
   "display_name": "Python 3 (ipykernel)",
   "language": "python",
   "name": "python3"
  },
  "language_info": {
   "codemirror_mode": {
    "name": "ipython",
    "version": 3
   },
   "file_extension": ".py",
   "mimetype": "text/x-python",
   "name": "python",
   "nbconvert_exporter": "python",
   "pygments_lexer": "ipython3",
   "version": "3.11.3"
  }
 },
 "nbformat": 4,
 "nbformat_minor": 5
}
